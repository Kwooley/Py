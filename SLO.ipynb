{
 "cells": [
  {
   "cell_type": "code",
   "execution_count": 1,
   "id": "deluxe-injury",
   "metadata": {},
   "outputs": [
    {
     "name": "stdout",
     "output_type": "stream",
     "text": [
      "Helo\n"
     ]
    }
   ],
   "source": [
    "print (\"Helo\")"
   ]
  },
  {
   "cell_type": "code",
   "execution_count": 2,
   "id": "matched-landing",
   "metadata": {},
   "outputs": [
    {
     "name": "stdout",
     "output_type": "stream",
     "text": [
      "[0, 0, 0, 0, 1, 1, 1, 1, 1, 1, 1, 1, 1, 2, 3, 5, 5, 5, 5, 5, 5, 7]\n",
      "[5, 1, 1, 1, 1, 1, 0, 5, 3, 0, 5, 1, 1, 5, 5, 7, 2, 0, 1, 0, 1, 5]\n"
     ]
    }
   ],
   "source": [
    "a61 = [5,1,1,1,1, \n",
    "       1,0,5,3,0,\n",
    "       5,1,1,5,5,\n",
    "       7,2,0,1,0,\n",
    "       1,5]\n",
    "print (sorted(a61))\n",
    "print (a61)\n"
   ]
  },
  {
   "cell_type": "code",
   "execution_count": 5,
   "id": "9d882ddc-4f27-4cea-a816-29905bd46cc9",
   "metadata": {},
   "outputs": [
    {
     "name": "stdout",
     "output_type": "stream",
     "text": [
      "0 4\n",
      "1 9\n",
      "2 1\n",
      "3 1\n",
      "5 6\n",
      "7 1\n"
     ]
    }
   ],
   "source": [
    "# Convert list to dictionay with {'score': frequencies} pair.\n",
    "\n",
    "d61 = { }\n",
    "\n",
    "for e in sorted(a61):\n",
    "    if ( e in d61.keys()):\n",
    "        d61[e] += 1\n",
    "    else:\n",
    "        d61[e] = 1\n",
    "\n",
    "for k, v in d61.items():\n",
    "    print (k, v)"
   ]
  },
  {
   "cell_type": "code",
   "execution_count": 26,
   "id": "1dadb1ff-d974-4174-96a3-397be360075e",
   "metadata": {},
   "outputs": [
    {
     "data": {
      "image/png": "[encoded data removed]",
      "text/plain": [
       "<Figure size 432x288 with 1 Axes>"
      ]
     },
     "metadata": {
      "needs_background": "light"
     },
     "output_type": "display_data"
    }
   ],
   "source": [
    "import matplotlib.pyplot as plt\n",
    "\n",
    "plt.bar(list(d61.keys()), list(d61.values()), align='center')\n",
    "plt.xlabel(\"Scores\")\n",
    "plt.ylabel(\"Number of Students\")\n",
    "plt.show\n",
    "plt.savefig('SLO1-score.png')"
   ]
  },
  {
   "cell_type": "code",
   "execution_count": 18,
   "id": "6db72de5-f8fd-4ae1-9581-a24ff23b4cb0",
   "metadata": {},
   "outputs": [
    {
     "name": "stdout",
     "output_type": "stream",
     "text": [
      "A 7\n",
      "B 2\n",
      "C 9\n",
      "D 4\n"
     ]
    }
   ],
   "source": [
    "# convert dict {'score':frequncies} into {'grade':frequncies}\n",
    "slo1 = { 'A':0, 'B':0, 'C':0, 'D':0}\n",
    "for k,v in d61.items():\n",
    "    if (k == 0):\n",
    "        slo1['D'] += v\n",
    "    elif (k <= 1):\n",
    "        slo1['C'] += v\n",
    "    elif (k <= 3):\n",
    "        slo1['B'] += v\n",
    "    elif (k <= 7):\n",
    "        slo1['A'] += v\n",
    "\n",
    "\n",
    "for k, v in slo1.items():\n",
    "    print (k, v)\n"
   ]
  },
  {
   "cell_type": "code",
   "execution_count": 25,
   "id": "7679d4da-686f-4572-95de-e33b7672312d",
   "metadata": {},
   "outputs": [
    {
     "data": {
      "image/png": "[encoded data removed]",
      "text/plain": [
       "<Figure size 432x288 with 1 Axes>"
      ]
     },
     "metadata": {
      "needs_background": "light"
     },
     "output_type": "display_data"
    }
   ],
   "source": [
    "import matplotlib.pyplot as plt\n",
    "\n",
    "plt.bar(list(slo1.keys()), list(slo1.values()), align='center')\n",
    "plt.xlabel(\"Grade\")\n",
    "plt.ylabel(\"Number of Students\")\n",
    "plt.show\n",
    "plt.savefig('SLO1-grade.png')"
   ]
  },
  {
   "cell_type": "markdown",
   "id": "d43d7e05-e4e3-4de8-8c0a-a8008f02e0ae",
   "metadata": {},
   "source": [
    "## CSLO 2"
   ]
  },
  {
   "cell_type": "code",
   "execution_count": 7,
   "id": "1dfb0674-49e0-452c-b3a4-0efd4ede9b36",
   "metadata": {},
   "outputs": [
    {
     "name": "stdout",
     "output_type": "stream",
     "text": [
      "[0, 0, 0, 0, 0, 0, 0, 0, 3, 3, 3, 3, 3, 3, 5, 9, 10, 10, 10, 12, 12, 12]\n",
      "[5, 3, 3, 0, 3, 0, 0, 10, 10, 0, 9, 0, 3, 10, 12, 12, 3, 0, 3, 0, 0, 12]\n"
     ]
    }
   ],
   "source": [
    "q6  = [5,3,3,0,3, \n",
    "       0, 0,10,10,0,\n",
    "       9, 0, 3,10,12,\n",
    "       12, 3,0,3,0,\n",
    "       0,12]\n",
    "print (sorted(q6))\n",
    "print (q6)\n"
   ]
  },
  {
   "cell_type": "code",
   "execution_count": 10,
   "id": "edcf02ad-c138-44ed-96ab-00e907ce10bc",
   "metadata": {},
   "outputs": [
    {
     "name": "stdout",
     "output_type": "stream",
     "text": [
      "0 8\n",
      "3 6\n",
      "5 1\n",
      "9 1\n",
      "10 3\n",
      "12 3\n"
     ]
    }
   ],
   "source": [
    "# Convert list to dictionay with {'score': frequencies} pair.\n",
    "\n",
    "dq6 = { }\n",
    "\n",
    "for e in sorted(q6):\n",
    "    if ( e in dq6.keys()):\n",
    "        dq6[e] += 1\n",
    "    else:\n",
    "        dq6[e] = 1\n",
    "\n",
    "for k, v in dq6.items():\n",
    "    print (k, v)"
   ]
  },
  {
   "cell_type": "code",
   "execution_count": 12,
   "id": "ffe02391-06c2-41ad-914b-07e4716ff392",
   "metadata": {},
   "outputs": [
    {
     "data": {
      "image/png": "[encoded data removed]",
      "text/plain": [
       "<Figure size 432x288 with 1 Axes>"
      ]
     },
     "metadata": {
      "needs_background": "light"
     },
     "output_type": "display_data"
    }
   ],
   "source": [
    "import matplotlib.pyplot as plt\n",
    "\n",
    "plt.bar(list(dq6.keys()), list(dq6.values()), align='center')\n",
    "plt.xlabel(\"Scores\")\n",
    "plt.ylabel(\"Number of Students\")\n",
    "plt.show\n",
    "plt.savefig('SLO2-score.png')"
   ]
  },
  {
   "cell_type": "code",
   "execution_count": 15,
   "id": "3c694dc7-1923-492c-bcb7-8991f2d558de",
   "metadata": {},
   "outputs": [
    {
     "name": "stdout",
     "output_type": "stream",
     "text": [
      "A 7\n",
      "B 7\n",
      "C 0\n",
      "D 8\n"
     ]
    }
   ],
   "source": [
    "# convert dict {'score':frequncies} into {'grade':frequncies}\n",
    "slo2 = { 'A':0, 'B':0, 'C':0, 'D':0}\n",
    "for k,v in dq6.items():\n",
    "    if (k == 0):\n",
    "        slo2['D'] += v\n",
    "    elif (k <= 1):\n",
    "        slo2['C'] += v\n",
    "    elif (k <= 5):\n",
    "        slo2['B'] += v\n",
    "    elif (k <= 12):\n",
    "        slo2['A'] += v\n",
    "\n",
    "\n",
    "for k, v in slo2.items():\n",
    "    print (k, v)\n"
   ]
  },
  {
   "cell_type": "code",
   "execution_count": 17,
   "id": "8cd9200b-15e0-4590-9be9-d6ff912f69ad",
   "metadata": {},
   "outputs": [
    {
     "data": {
      "image/png": "[encoded data removed]",
      "text/plain": [
       "<Figure size 432x288 with 1 Axes>"
      ]
     },
     "metadata": {
      "needs_background": "light"
     },
     "output_type": "display_data"
    }
   ],
   "source": [
    "import matplotlib.pyplot as plt\n",
    "\n",
    "plt.bar(list(slo2.keys()), list(slo2.values()), align='center')\n",
    "plt.xlabel(\"Grade\")\n",
    "plt.ylabel(\"Number of Students\")\n",
    "plt.show\n",
    "plt.savefig('SLO2-grade.png')"
   ]
  },
  {
   "cell_type": "markdown",
   "id": "ea491276-a550-4d68-b43e-9b6bc8fa7ddb",
   "metadata": {},
   "source": [
    "## CSLO3"
   ]
  },
  {
   "cell_type": "code",
   "execution_count": 19,
   "id": "06fe3b5c-90c0-4b25-bb26-8ed13a51f650",
   "metadata": {},
   "outputs": [
    {
     "name": "stdout",
     "output_type": "stream",
     "text": [
      "[0, 0, 0, 0, 5, 15, 15, 16, 18, 19, 19, 21, 22, 24, 25, 25, 25, 25, 25, 25, 26, 28]\n",
      "[22, 16, 25, 15, 15, 25, 0, 24, 19, 19, 25, 5, 21, 28, 25, 26, 25, 0, 18, 0, 0, 25]\n"
     ]
    }
   ],
   "source": [
    "q5  = [22, 16, 25, 15, 15, \n",
    "       25, 0, 24, 19, 19, \n",
    "       25, 5, 21, 28, 25, \n",
    "       26, 25, 0, 18, 0, \n",
    "       0, 25 ]\n",
    "print (sorted(q5))\n",
    "print (q5)\n"
   ]
  },
  {
   "cell_type": "code",
   "execution_count": 20,
   "id": "05deee3f-7227-4e6a-88d0-babc2b2a83ab",
   "metadata": {},
   "outputs": [
    {
     "name": "stdout",
     "output_type": "stream",
     "text": [
      "0 4\n",
      "5 1\n",
      "15 2\n",
      "16 1\n",
      "18 1\n",
      "19 2\n",
      "21 1\n",
      "22 1\n",
      "24 1\n",
      "25 6\n",
      "26 1\n",
      "28 1\n"
     ]
    }
   ],
   "source": [
    "# Convert list to dictionay with {'score': frequencies} pair.\n",
    "\n",
    "dq5 = { }\n",
    "\n",
    "for e in sorted(q5):\n",
    "    if ( e in dq5.keys()):\n",
    "        dq5[e] += 1\n",
    "    else:\n",
    "        dq5[e] = 1\n",
    "\n",
    "for k, v in dq5.items():\n",
    "    print (k, v)"
   ]
  },
  {
   "cell_type": "code",
   "execution_count": 22,
   "id": "848e8bea-ce01-4011-ad41-ecfbcb0ec525",
   "metadata": {},
   "outputs": [
    {
     "data": {
      "image/png": "[encoded data removed]",
      "text/plain": [
       "<Figure size 432x288 with 1 Axes>"
      ]
     },
     "metadata": {
      "needs_background": "light"
     },
     "output_type": "display_data"
    }
   ],
   "source": [
    "import matplotlib.pyplot as plt\n",
    "\n",
    "plt.bar(list(dq5.keys()), list(dq5.values()), align='center')\n",
    "plt.xlabel(\"Scores\")\n",
    "plt.ylabel(\"Number of Students\")\n",
    "plt.show\n",
    "plt.savefig('SLO3-score.png')"
   ]
  },
  {
   "cell_type": "code",
   "execution_count": 24,
   "id": "0e0a79d9-7243-4101-9828-677e5abd8d14",
   "metadata": {},
   "outputs": [
    {
     "name": "stdout",
     "output_type": "stream",
     "text": [
      "A 15\n",
      "B 2\n",
      "C 1\n",
      "D 4\n"
     ]
    }
   ],
   "source": [
    "# convert dict {'score':frequncies} into {'grade':frequncies}\n",
    "slo3 = { 'A':0, 'B':0, 'C':0, 'D':0}\n",
    "for k,v in dq5.items():\n",
    "    if (k == 0):\n",
    "        slo3['D'] += v\n",
    "    elif (k <= 5):\n",
    "        slo3['C'] += v\n",
    "    elif (k <= 15):\n",
    "        slo3['B'] += v\n",
    "    elif (k <= 28):\n",
    "        slo3['A'] += v\n",
    "\n",
    "\n",
    "for k, v in slo3.items():\n",
    "    print (k, v)\n"
   ]
  },
  {
   "cell_type": "code",
   "execution_count": 25,
   "id": "4fa85994-51f9-4ec5-852a-56215c375ea0",
   "metadata": {},
   "outputs": [
    {
     "data": {
      "image/png": "[encoded data removed]",
      "text/plain": [
       "<Figure size 432x288 with 1 Axes>"
      ]
     },
     "metadata": {
      "needs_background": "light"
     },
     "output_type": "display_data"
    }
   ],
   "source": [
    "import matplotlib.pyplot as plt\n",
    "\n",
    "plt.bar(list(slo3.keys()), list(slo3.values()), align='center')\n",
    "plt.xlabel(\"Grade\")\n",
    "plt.ylabel(\"Number of Students\")\n",
    "plt.show\n",
    "plt.savefig('SLO3-grade.png')"
   ]
  },
  {
   "cell_type": "markdown",
   "id": "06d443f2-d7c1-418b-a675-6c4ea27759b9",
   "metadata": {},
   "source": [
    "## CSLO4"
   ]
  },
  {
   "cell_type": "code",
   "execution_count": 29,
   "id": "cfb3a683-a7d0-4f28-81e0-5f532b02c444",
   "metadata": {},
   "outputs": [
    {
     "name": "stdout",
     "output_type": "stream",
     "text": [
      "[0, 0, 0, 0, 0, 0, 0, 2, 5, 5, 5, 5, 6, 8, 8, 9, 10, 10, 10, 10, 10, 12]\n",
      "[5, 2, 5, 5, 8, 0, 0, 10, 6, 0, 8, 9, 5, 10, 10, 12, 10, 0, 0, 0, 0, 10]\n"
     ]
    }
   ],
   "source": [
    "q7  = [5, 2, 5, 5, 8,\n",
    "       0, 0, 10, 6, 0, \n",
    "       8, 9, 5, 10, 10,\n",
    "       12, 10, 0, 0, 0,\n",
    "       0, 10 ]\n",
    "print (sorted(q7))\n",
    "print (q7)\n"
   ]
  },
  {
   "cell_type": "code",
   "execution_count": 30,
   "id": "b6059eca-e4c9-452c-b28a-ec99039ffd83",
   "metadata": {},
   "outputs": [
    {
     "name": "stdout",
     "output_type": "stream",
     "text": [
      "0 7\n",
      "2 1\n",
      "5 4\n",
      "6 1\n",
      "8 2\n",
      "9 1\n",
      "10 5\n",
      "12 1\n"
     ]
    }
   ],
   "source": [
    "# Convert list to dictionay with {'score': frequencies} pair.\n",
    "\n",
    "dq7 = { }\n",
    "\n",
    "for e in sorted(q7):\n",
    "    if ( e in dq7.keys()):\n",
    "        dq7[e] += 1\n",
    "    else:\n",
    "        dq7[e] = 1\n",
    "\n",
    "for k, v in dq7.items():\n",
    "    print (k, v)"
   ]
  },
  {
   "cell_type": "code",
   "execution_count": 31,
   "id": "5bebbada-ecd6-4bdd-a371-b970a835e00e",
   "metadata": {},
   "outputs": [
    {
     "data": {
      "image/png": "[encoded data removed]",
      "text/plain": [
       "<Figure size 432x288 with 1 Axes>"
      ]
     },
     "metadata": {
      "needs_background": "light"
     },
     "output_type": "display_data"
    }
   ],
   "source": [
    "import matplotlib.pyplot as plt\n",
    "\n",
    "plt.bar(list(dq7.keys()), list(dq7.values()), align='center')\n",
    "plt.xlabel(\"Scores\")\n",
    "plt.ylabel(\"Number of Students\")\n",
    "plt.show\n",
    "plt.savefig('SLO4-score.png')"
   ]
  },
  {
   "cell_type": "code",
   "execution_count": 33,
   "id": "65b76c8a-7653-4fc3-a77a-d46f41310d1a",
   "metadata": {},
   "outputs": [
    {
     "name": "stdout",
     "output_type": "stream",
     "text": [
      "A 7\n",
      "B 3\n",
      "C 5\n",
      "D 7\n"
     ]
    }
   ],
   "source": [
    "# convert dict {'score':frequncies} into {'grade':frequncies}\n",
    "slo4 = { 'A':0, 'B':0, 'C':0, 'D':0}\n",
    "for k,v in dq7.items():\n",
    "    if (k == 0):\n",
    "        slo4['D'] += v\n",
    "    elif (k <= 5):\n",
    "        slo4['C'] += v\n",
    "    elif (k <= 8):\n",
    "        slo4['B'] += v\n",
    "    elif (k <= 12):\n",
    "        slo4['A'] += v\n",
    "\n",
    "\n",
    "for k, v in slo4.items():\n",
    "    print (k, v)\n"
   ]
  },
  {
   "cell_type": "code",
   "execution_count": 34,
   "id": "d3a61543-be80-4ce9-8d06-9e455412f63a",
   "metadata": {},
   "outputs": [
    {
     "data": {
      "image/png": "[encoded data removed]",
      "text/plain": [
       "<Figure size 432x288 with 1 Axes>"
      ]
     },
     "metadata": {
      "needs_background": "light"
     },
     "output_type": "display_data"
    }
   ],
   "source": [
    "import matplotlib.pyplot as plt\n",
    "\n",
    "plt.bar(list(slo4.keys()), list(slo4.values()), align='center')\n",
    "plt.xlabel(\"Grade\")\n",
    "plt.ylabel(\"Number of Students\")\n",
    "plt.show\n",
    "plt.savefig('SLO4-grade.png')"
   ]
  },
  {
   "cell_type": "code",
   "execution_count": null,
   "id": "e3205524-9ad4-4820-abda-6dd60faa0416",
   "metadata": {},
   "outputs": [],
   "source": []
  },
  {
   "cell_type": "markdown",
   "id": "d347ba65-3f5f-48f7-88b8-18a5ea004a1a",
   "metadata": {},
   "source": [
    "### T"
   ]
  },
  {
   "cell_type": "code",
   "execution_count": null,
   "id": "d40d0d3a-5bcf-4fd3-bed2-61c13d54a34b",
   "metadata": {},
   "outputs": [],
   "source": [
    "d1 = { 'a':1, 'b':2, 'c':3 }\n",
    "\n",
    "for key, value in d1.items():\n",
    "    print (key, value)\n",
    "\n",
    "'c' in d1.keys()"
   ]
  },
  {
   "cell_type": "code",
   "execution_count": null,
   "id": "be93b941-da42-4740-b0c2-9d4f7764595c",
   "metadata": {},
   "outputs": [],
   "source": [
    "l = [0,0,0,1,1,1,2,2,3,3,3,3]\n",
    "d = {}\n",
    "\n",
    "for e in l:\n",
    "    if ( e in d.keys() ):\n",
    "        d[e] += 1\n",
    "    else:\n",
    "        d[e] = 1;\n",
    "\n",
    "for k, v in d.items():\n",
    "    print (k, v)\n",
    "\n"
   ]
  },
  {
   "cell_type": "code",
   "execution_count": 35,
   "id": "4d201b2d-cc68-4491-ba1a-4aa440846ce5",
   "metadata": {},
   "outputs": [
    {
     "data": {
      "text/plain": [
       "0.8181818181818182"
      ]
     },
     "execution_count": 35,
     "metadata": {},
     "output_type": "execute_result"
    }
   ],
   "source": [
    "18 / 22"
   ]
  }
 ],
 "metadata": {
  "kernelspec": {
   "display_name": "Python 3.9.7 64-bit ('base': conda)",
   "language": "python",
   "name": "python397jvsc74a57bd0a614fddea9d37e019a720cc724ab725ff28be4e0e64e91a691a8738e1909110d"
  },
  "language_info": {
   "codemirror_mode": {
    "name": "ipython",
    "version": 3
   },
   "file_extension": ".py",
   "mimetype": "text/x-python",
   "name": "python",
   "nbconvert_exporter": "python",
   "pygments_lexer": "ipython3",
   "version": "3.9.7"
  }
 },
 "nbformat": 4,
 "nbformat_minor": 5
}
