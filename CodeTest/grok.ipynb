{
 "cells": [
  {
   "cell_type": "code",
   "execution_count": 43,
   "metadata": {},
   "outputs": [
    {
     "name": "stdout",
     "output_type": "stream",
     "text": [
      "[4, 1, 0, 2, 3]\n"
     ]
    }
   ],
   "source": [
    "import random\n",
    "lst = random.sample(range(0,5), 5)\n",
    "print (lst)\n"
   ]
  },
  {
   "cell_type": "code",
   "execution_count": 47,
   "metadata": {
    "tags": []
   },
   "outputs": [
    {
     "name": "stdout",
     "output_type": "stream",
     "text": [
      "2\n"
     ]
    }
   ],
   "source": [
    "import random\n",
    "\n",
    "def find_miss(lst, l, r):\n",
    "    if (l >= r):\n",
    "        return lst[l]\n",
    "    \n",
    "    mid = int((r-l)/2) + l\n",
    "    if ( lst[mid] != mid):\n",
    "        if ( lst[mid-1] != mid-1):\n",
    "            m = find_miss(lst, l, mid-1)\n",
    "        else:\n",
    "            return lst[mid-1]\n",
    "    else:\n",
    "        m = find_miss(lst, mid+1, r)\n",
    "\n",
    "    return m\n",
    "\n",
    "\n",
    "lst = [0, 2, 3, 4, 5, 6, 7, 8,9, 10]\n",
    "\n",
    "m = find_miss(lst, 0, 9)\n",
    "print (m)"
   ]
  },
  {
   "cell_type": "code",
   "execution_count": null,
   "metadata": {},
   "outputs": [],
   "source": []
  },
  {
   "cell_type": "code",
   "execution_count": 14,
   "metadata": {},
   "outputs": [
    {
     "name": "stdout",
     "output_type": "stream",
     "text": [
      "15\n",
      "15\n",
      "('p', 'is duplicted')\n"
     ]
    }
   ],
   "source": [
    "\n",
    "chrstr = \"ppytthon\"\n",
    "\n",
    "def detect(char):\n",
    "    seen = [0] * 26\n",
    "    # for c in chrstr:\n",
    "    idx = ord(c) - 97\n",
    "    print (idx)\n",
    "    if ( seen[idx] == 1 ):\n",
    "        return c\n",
    "    else:\n",
    "        seen[idx] = 1\n",
    "    return None\n",
    "# read char repeatedly from input stream\n",
    "c = detect(char)\n",
    "if ( c != None):\n",
    "    print (c, \"is duplicted\")\n"
   ]
  }
 ],
 "metadata": {
  "kernelspec": {
   "display_name": "Python 3.9.7 64-bit ('base': conda)",
   "language": "python",
   "name": "python397jvsc74a57bd0a614fddea9d37e019a720cc724ab725ff28be4e0e64e91a691a8738e1909110d"
  },
  "language_info": {
   "codemirror_mode": {
    "name": "ipython",
    "version": 3
   },
   "file_extension": ".py",
   "mimetype": "text/x-python",
   "name": "python",
   "nbconvert_exporter": "python",
   "pygments_lexer": "ipython3",
   "version": "3.9.7"
  }
 },
 "nbformat": 4,
 "nbformat_minor": 2
}
