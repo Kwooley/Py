{
 "metadata": {
  "language_info": {
   "codemirror_mode": {
    "name": "ipython",
    "version": 3
   },
   "file_extension": ".py",
   "mimetype": "text/x-python",
   "name": "python",
   "nbconvert_exporter": "python",
   "pygments_lexer": "ipython3",
   "version": "3.7.5-final"
  },
  "orig_nbformat": 2,
  "kernelspec": {
   "name": "python37564bitanaconda3virtualenved185322ef174f36ba4f76c01b35fa26",
   "display_name": "Python 3.7.5 64-bit ('anaconda3': virtualenv)",
   "language": "python"
  }
 },
 "nbformat": 4,
 "nbformat_minor": 2,
 "cells": [
  {
   "source": [
    "### K_th Greatest Element"
   ],
   "cell_type": "markdown",
   "metadata": {}
  },
  {
   "cell_type": "code",
   "execution_count": null,
   "metadata": {},
   "outputs": [],
   "source": [
    "\n",
    "import numpy as np\n",
    "\n",
    "def find_k(l1, k):\n",
    "    for n in range(k):\n",
    "        for i in range(len(l1)-1):\n",
    "            if l1[i] > l1[i+1]:\n",
    "                l1[i], l1[i+1] = l1[i+1], l1[i]\n",
    "    print (l1)\n",
    "    return l1[k-1]\n",
    "        \n",
    "\n",
    "l1 = np.random.randint(0,100, 10)\n",
    "k = 3\n",
    "print (l1)\n",
    "\n",
    "k_th = find_k(l1, k)\n",
    "print (k_th)\n"
   ]
  },
  {
   "source": [
    "### Find Max"
   ],
   "cell_type": "markdown",
   "metadata": {}
  },
  {
   "cell_type": "code",
   "execution_count": null,
   "metadata": {},
   "outputs": [],
   "source": [
    "import pdb\n",
    "\n",
    "def find_max(li):\n",
    "    max = li[0]\n",
    "    # pdb.set_trace()\n",
    "    for i, v in enumerate(li):\n",
    "        print (i,v)\n",
    "        if (max < v):\n",
    "            max = v\n",
    "            idx = i\n",
    "    return max, idx\n",
    "\n",
    "li = np.random.randint(0,100, 5)\n",
    "print (\"list values \", li)\n",
    "i,v = find_max(li)\n",
    "print (\"Max element index \", i , \"Max value\" , v)\n",
    "\n"
   ]
  },
  {
   "source": [
    "### Q sort"
   ],
   "cell_type": "markdown",
   "metadata": {}
  },
  {
   "source": [
    "import random\n",
    "\n",
    "list1 = random.sample(range(0,99), 10)\n",
    "print (list1)\n",
    "\n",
    "def partition(lst, start, end):\n",
    "    pivot = lst[end]\n",
    "    endofsmall = -1\n",
    "    for i,v in enumerate(lst):\n",
    "        if lst[i] < pivot:\n",
    "            lst[i], lst[endofsmall+1] = lst[endofsmall+1], lst[i]\n",
    "            endofsmall += 1\n",
    "    lst[endofsmall+1], lst[end] = lst[end], lst[endofsmall+1]\n",
    "    print (\"partition\", lst[start:end+1])\n",
    "    return endofsmall+1\n",
    "\n",
    "def qsort(lst, start, end):\n",
    "    if ( start >= end):\n",
    "        return 0\n",
    "    pivot_index = partition(lst, start, end)\n",
    "    qsort(lst, start, pivot_index-1)\n",
    "    qsort(lst, pivot_index+1, end)\n",
    "\n",
    "qsort(list1, 0, len(list1)-1)\n",
    "print (list1)\n"
   ],
   "cell_type": "code",
   "metadata": {
    "tags": []
   },
   "execution_count": null,
   "outputs": []
  },
  {
   "source": [
    "### Spell a word from song lyrics\n",
    "#### Statement: There's a Toronto radio station, \"boom 97.3,\" whose billboard ads feature song lyrics with their name spelled using highlighted words, e.g. \n",
    "\n",
    "Every [b]reath\n",
    "         y[o]u make  \n",
    "          Every m[o]ve\n",
    " \t                You [m]ake\n",
    "\n",
    "Given a song lyric as a string, can we spell a word this way? Each word can match at most one letter (because the word must be presented vertically). Letter matches must be in order.\n"
   ],
   "cell_type": "markdown",
   "metadata": {}
  },
  {
   "cell_type": "code",
   "execution_count": null,
   "metadata": {},
   "outputs": [],
   "source": [
    "def can_spell(word, lyric):\n",
    "    lly = lyric.split(' ')\n",
    "    current = 0\n",
    "    for eachword in lly:\n",
    "        if (word[current] in eachword):\n",
    "            current += 1\n",
    "            print (eachword)\n",
    "    return \n",
    "\n",
    "word = \"boom\"\n",
    "lyric = \"Every breath you make Every move you make\"\n",
    "\n",
    "can_spell(word, lyric)"
   ]
  },
  {
   "source": [
    "## M Sort"
   ],
   "cell_type": "markdown",
   "metadata": {}
  },
  {
   "cell_type": "code",
   "execution_count": null,
   "metadata": {},
   "outputs": [],
   "source": [
    "import random\n",
    "lst = random.sample(range(0,99), 5)\n",
    "lst = [60, 34, 93, 26, 76]\n",
    "print (lst)\n",
    "\n",
    "def merge(lst,l, r):\n",
    "    idx_left = l \n",
    "    left_end = int((r-l)/2) + l\n",
    "    idx_right = left_end + 1\n",
    "    idx = l\n",
    "    mlist = [None] * (r+1)\n",
    "\n",
    "    while( idx_left <= left_end and idx_right <= r):\n",
    "        if (lst[idx_left] < lst[idx_right]):\n",
    "            mlist[idx] = lst[idx_left] \n",
    "            idx_left += 1\n",
    "        else:\n",
    "            mlist[idx] = lst[idx_right]\n",
    "            idx_right += 1\n",
    "        idx += 1\n",
    "\n",
    "    if ( idx_left > left_end):\n",
    "        while( idx_right <= r ):\n",
    "            mlist[idx] = lst[idx_right]\n",
    "            idx += 1 ; idx_right += 1\n",
    "    else:\n",
    "        while( idx_left <= left_end ):\n",
    "            mlist[idx] = lst[idx_left]\n",
    "            idx += 1 ; idx_left += 1\n",
    "    lst[l:r+1] = mlist[l:r+1]\n",
    "\n",
    "def msort(lst, l, r):\n",
    "    if ( l < r ):\n",
    "        left_end = int((r-l)/2) + l \n",
    "        msort(lst, l, left_end)\n",
    "        print(lst[l:left_end+1])\n",
    "        msort(lst, left_end+1, r)\n",
    "        print(lst[left_end+1:r+1])\n",
    "        merge(lst,l, r)\n",
    "\n",
    "msort(lst, 0, len(lst)-1)\n",
    "print (lst)"
   ]
  },
  {
   "cell_type": "code",
   "execution_count": null,
   "metadata": {},
   "outputs": [],
   "source": [
    "l1 = random.sample(range(0,10), 10)\n",
    "l2 = random.sample(range(0,10), 5)\n",
    "print (l1, l2)\n",
    "\n",
    "l1[0:5] = l2\n",
    "print (l1, l2)\n"
   ]
  },
  {
   "source": [
    "### Merge Sort with list function"
   ],
   "cell_type": "markdown",
   "metadata": {}
  },
  {
   "cell_type": "code",
   "execution_count": null,
   "metadata": {
    "tags": []
   },
   "outputs": [],
   "source": [
    "import random\n",
    "\n",
    "def msort(lst):\n",
    "    print (lst)\n",
    "    if (len(lst)>1):\n",
    "        lend = int( (len(lst)-1)/2 )\n",
    "        left = msort(lst[0:lend+1])\n",
    "        right = msort(lst[lend+1:])\n",
    "        lst = merge(left, right)\n",
    "    return lst\n",
    "\n",
    "def merge(left, right):\n",
    "    mlst = []\n",
    "    while (len(left) and len(right)):\n",
    "        if (left[0] < right[0]):\n",
    "            mlst.append(left.pop(0))\n",
    "        else:\n",
    "            mlst.append(right.pop(0))\n",
    "    if (len(left)==0):\n",
    "        mlst.extend(right)\n",
    "        \n",
    "    if (len(right)==0):\n",
    "        mlst.extend(left[:])\n",
    "    return mlst\n",
    "\n",
    "lst = random.sample(range(0,100), 5)\n",
    "print (lst)\n",
    "\n",
    "lst = msort(lst)\n",
    "print (lst)\n"
   ]
  },
  {
   "source": [
    "### Q sort 2 with python list property\n"
   ],
   "cell_type": "markdown",
   "metadata": {}
  },
  {
   "cell_type": "code",
   "execution_count": 13,
   "metadata": {},
   "outputs": [
    {
     "output_type": "stream",
     "name": "stdout",
     "text": [
      "[ 5 47 33  3 74 39 30  1 59 20]\n[59, 86, 54, 57, 6, 46, 0, 4, 34, 60]\n[6, 46, 0, 4, 34]\n"
     ]
    }
   ],
   "source": [
    "\n",
    "import numpy as np \n",
    "import random \n",
    "lst = np.random.randint(0,100,10)\n",
    "print (lst) # lst is ndarray\n",
    "lst = random.sample(range(0,100),10)\n",
    "print (lst) # lst is list\n",
    "\n",
    "lst = [k for k in lst if k < 50]\n",
    "print (lst)\n"
   ]
  },
  {
   "cell_type": "code",
   "execution_count": 43,
   "metadata": {
    "tags": []
   },
   "outputs": [
    {
     "output_type": "stream",
     "name": "stdout",
     "text": [
      "List  [53, 18, 20, 4, 59, 98, 19, 83, 64, 21]\n[4, 18, 19, 20, 21, 53, 59, 64, 83, 98]\n"
     ]
    }
   ],
   "source": [
    "# import numpy as np \n",
    "import random \n",
    "# lst = np.random.randint(0,100,10)\n",
    "# print (lst) # lst is ndarray\n",
    "lst = random.sample(range(0,100),10)\n",
    "print (\"List \", lst) # lst is list\n",
    "\n",
    "\n",
    "def partition(lst, l, r):\n",
    "    pivot = lst[r]\n",
    "    left = [k for k in lst if k < pivot]\n",
    "    right = [k for k in lst if k > pivot]\n",
    "    lst[:] = left[:]\n",
    "    pivot_idx = len(left)\n",
    "    lst.append(pivot)\n",
    "    lst.extend(right)\n",
    "    return pivot_idx\n",
    "\n",
    "def qsort(lst, l, r):\n",
    "    if (l > r):\n",
    "        return lst\n",
    "    pivot_idx = partition(lst, l, r)\n",
    "    lst = qsort(lst, l, pivot_idx-1)\n",
    "    lst = qsort(lst, pivot_idx+1, r)\n",
    "    return lst\n",
    "\n",
    "lst = qsort(lst, 0, len(lst)-1)\n",
    "print (lst)"
   ]
  },
  {
   "source": [
    "### Q sort 3 (without the partition function)"
   ],
   "cell_type": "markdown",
   "metadata": {}
  },
  {
   "cell_type": "code",
   "execution_count": null,
   "metadata": {},
   "outputs": [],
   "source": []
  }
 ]
}