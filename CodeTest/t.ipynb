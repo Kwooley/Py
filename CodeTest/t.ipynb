{
 "cells": [
  {
   "cell_type": "code",
   "execution_count": 6,
   "metadata": {},
   "outputs": [
    {
     "name": "stdout",
     "output_type": "stream",
     "text": [
      "[5, 7, 8, 10, 15, 20, 25]\n"
     ]
    }
   ],
   "source": [
    "def qsort(l):\n",
    "    if (len(l) > 1):\n",
    "        \n",
    "        pivot = l[len(l)-1]\n",
    "        # import pdb; pdb.set_trace()        \n",
    "       \n",
    "        left = [x for x in l if x < pivot ]\n",
    "        left = qsort(left)\n",
    "        right = [x for x in l if x > pivot ]\n",
    "        right = qsort(right)\n",
    "\n",
    "        left.append(pivot)\n",
    "        left.extend(right)\n",
    "        return  left\n",
    "    else:\n",
    "        return l\n",
    "\n",
    "\n",
    "    \n",
    "lst = [5,25, 10, 15, 20, 8, 7]\n",
    "\n",
    "lst = qsort(lst)\n",
    "\n",
    "print (lst)"
   ]
  },
  {
   "cell_type": "code",
   "execution_count": 2,
   "metadata": {},
   "outputs": [
    {
     "name": "stdout",
     "output_type": "stream",
     "text": [
      "3\n"
     ]
    }
   ],
   "source": [
    "l1 =[1,2,3]\n",
    "print (len(l1))"
   ]
  }
 ],
 "metadata": {
  "interpreter": {
   "hash": "a614fddea9d37e019a720cc724ab725ff28be4e0e64e91a691a8738e1909110d"
  },
  "kernelspec": {
   "display_name": "Python 3.9.7 64-bit ('base': conda)",
   "language": "python",
   "name": "python3"
  },
  "language_info": {
   "codemirror_mode": {
    "name": "ipython",
    "version": 3
   },
   "file_extension": ".py",
   "mimetype": "text/x-python",
   "name": "python",
   "nbconvert_exporter": "python",
   "pygments_lexer": "ipython3",
   "version": "3.9.7"
  },
  "orig_nbformat": 4
 },
 "nbformat": 4,
 "nbformat_minor": 2
}
