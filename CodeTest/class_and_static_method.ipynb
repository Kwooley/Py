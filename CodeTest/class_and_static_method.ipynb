{
 "metadata": {
  "language_info": {
   "codemirror_mode": {
    "name": "ipython",
    "version": 3
   },
   "file_extension": ".py",
   "mimetype": "text/x-python",
   "name": "python",
   "nbconvert_exporter": "python",
   "pygments_lexer": "ipython3",
   "version": "3.7.5-final"
  },
  "orig_nbformat": 2,
  "kernelspec": {
   "name": "python37564bitanaconda3virtualenved185322ef174f36ba4f76c01b35fa26",
   "display_name": "Python 3.7.5 64-bit ('anaconda3': virtualenv)",
   "language": "python"
  }
 },
 "nbformat": 4,
 "nbformat_minor": 2,
 "cells": [
  {
   "source": [
    "### K_th Greatest Element"
   ],
   "cell_type": "markdown",
   "metadata": {}
  },
  {
   "cell_type": "code",
   "execution_count": null,
   "metadata": {},
   "outputs": [],
   "source": [
    "\n",
    "import numpy as np\n",
    "\n",
    "def find_k(l1, k):\n",
    "    for n in range(k):\n",
    "        for i in range(len(l1)-1):\n",
    "            if l1[i] > l1[i+1]:\n",
    "                l1[i], l1[i+1] = l1[i+1], l1[i]\n",
    "    print (l1)\n",
    "    return l1[k-1]\n",
    "        \n",
    "\n",
    "l1 = np.random.randint(0,100, 10)\n",
    "k = 3\n",
    "print (l1)\n",
    "\n",
    "k_th = find_k(l1, k)\n",
    "print (k_th)\n"
   ]
  },
  {
   "source": [
    "### Find Max"
   ],
   "cell_type": "markdown",
   "metadata": {}
  },
  {
   "cell_type": "code",
   "execution_count": null,
   "metadata": {},
   "outputs": [],
   "source": [
    "import pdb\n",
    "\n",
    "def find_max(li):\n",
    "    max = li[0]\n",
    "    # pdb.set_trace()\n",
    "    for i, v in enumerate(li):\n",
    "        print (i,v)\n",
    "        if (max < v):\n",
    "            max = v\n",
    "            idx = i\n",
    "    return max, idx\n",
    "\n",
    "li = np.random.randint(0,100, 5)\n",
    "print (\"list values \", li)\n",
    "i,v = find_max(li)\n",
    "print (\"Max element index \", i , \"Max value\" , v)\n",
    "\n"
   ]
  },
  {
   "source": [
    "### Q sort"
   ],
   "cell_type": "markdown",
   "metadata": {}
  },
  {
   "source": [
    "import random\n",
    "\n",
    "list1 = random.sample(range(0,99), 10)\n",
    "print (list1)\n",
    "\n",
    "def partition(lst, start, end):\n",
    "    pivot = lst[end]\n",
    "    endofsmall = -1\n",
    "    for i,v in enumerate(lst):\n",
    "        if lst[i] < pivot:\n",
    "            lst[i], lst[endofsmall+1] = lst[endofsmall+1], lst[i]\n",
    "            endofsmall += 1\n",
    "    lst[endofsmall+1], lst[end] = lst[end], lst[endofsmall+1]\n",
    "    print (\"partition\", lst[start:end+1])\n",
    "    return endofsmall+1\n",
    "\n",
    "def qsort(lst, start, end):\n",
    "    if ( start >= end):\n",
    "        return 0\n",
    "    pivot_index = partition(lst, start, end)\n",
    "    qsort(lst, start, pivot_index-1)\n",
    "    qsort(lst, pivot_index+1, end)\n",
    "\n",
    "qsort(list1, 0, len(list1)-1)\n",
    "print (list1)\n"
   ],
   "cell_type": "code",
   "metadata": {
    "tags": []
   },
   "execution_count": null,
   "outputs": []
  },
  {
   "source": [
    "### Spell a word from song lyrics\n",
    "#### Statement: There's a Toronto radio station, \"boom 97.3,\" whose billboard ads feature song lyrics with their name spelled using highlighted words, e.g. \n",
    "\n",
    "Every [b]reath\n",
    "         y[o]u make  \n",
    "          Every m[o]ve\n",
    " \t                You [m]ake\n",
    "\n",
    "Given a song lyric as a string, can we spell a word this way? Each word can match at most one letter (because the word must be presented vertically). Letter matches must be in order.\n"
   ],
   "cell_type": "markdown",
   "metadata": {}
  },
  {
   "cell_type": "code",
   "execution_count": null,
   "metadata": {},
   "outputs": [],
   "source": [
    "def can_spell(word, lyric):\n",
    "    lly = lyric.split(' ')\n",
    "    current = 0\n",
    "    for eachword in lly:\n",
    "        if (word[current] in eachword):\n",
    "            current += 1\n",
    "            print (eachword)\n",
    "    return \n",
    "\n",
    "word = \"boom\"\n",
    "lyric = \"Every breath you make Every move you make\"\n",
    "\n",
    "can_spell(word, lyric)"
   ]
  },
  {
   "source": [
    "### M Sort"
   ],
   "cell_type": "markdown",
   "metadata": {}
  },
  {
   "cell_type": "code",
   "execution_count": null,
   "metadata": {},
   "outputs": [],
   "source": [
    "import random\n",
    "lst = random.sample(range(0,99), 5)\n",
    "lst = [60, 34, 93, 26, 76]\n",
    "print (lst)\n",
    "\n",
    "def merge(lst,l, r):\n",
    "    idx_left = l \n",
    "    left_end = int((r-l)/2) + l\n",
    "    idx_right = left_end + 1\n",
    "    idx = l\n",
    "    mlist = [None] * (r+1)\n",
    "\n",
    "    while( idx_left <= left_end and idx_right <= r):\n",
    "        if (lst[idx_left] < lst[idx_right]):\n",
    "            mlist[idx] = lst[idx_left] \n",
    "            idx_left += 1\n",
    "        else:\n",
    "            mlist[idx] = lst[idx_right]\n",
    "            idx_right += 1\n",
    "        idx += 1\n",
    "\n",
    "    if ( idx_left > left_end):\n",
    "        while( idx_right <= r ):\n",
    "            mlist[idx] = lst[idx_right]\n",
    "            idx += 1 ; idx_right += 1\n",
    "    else:\n",
    "        while( idx_left <= left_end ):\n",
    "            mlist[idx] = lst[idx_left]\n",
    "            idx += 1 ; idx_left += 1\n",
    "    lst[l:r+1] = mlist[l:r+1]\n",
    "\n",
    "def msort(lst, l, r):\n",
    "    if ( l < r ):\n",
    "        left_end = int((r-l)/2) + l \n",
    "        msort(lst, l, left_end)\n",
    "        print(lst[l:left_end+1])\n",
    "        msort(lst, left_end+1, r)\n",
    "        print(lst[left_end+1:r+1])\n",
    "        merge(lst,l, r)\n",
    "\n",
    "msort(lst, 0, len(lst)-1)\n",
    "print (lst)"
   ]
  },
  {
   "cell_type": "code",
   "execution_count": null,
   "metadata": {},
   "outputs": [],
   "source": [
    "l1 = random.sample(range(0,10), 10)\n",
    "l2 = random.sample(range(0,10), 5)\n",
    "print (l1, l2)\n",
    "\n",
    "l1[0:5] = l2\n",
    "print (l1, l2)\n"
   ]
  },
  {
   "source": [
    "## Private Variable\n",
    "<ul>\n",
    "    <li> There is no existence of \"Private\" variable </li>\n",
    "    <li> A convention followed by most Python developer </li>\n",
    "    <li> an underscore should be treated as a non-public part of API </li>\n",
    "</ul>"
   ],
   "cell_type": "markdown",
   "metadata": {}
  },
  {
   "source": [
    "### Non-Private Example"
   ],
   "cell_type": "markdown",
   "metadata": {}
  },
  {
   "cell_type": "code",
   "execution_count": 172,
   "metadata": {},
   "outputs": [
    {
     "output_type": "stream",
     "name": "stdout",
     "text": [
      "John Doe\n"
     ]
    }
   ],
   "source": [
    "class Student:\n",
    "    def __init__(self, f, l):\n",
    "        self.first = f \n",
    "        self.last = l \n",
    "    \n",
    "s1 = Student(\"John\", \"Doe\")\n",
    "print (s1.first, s1.last)"
   ]
  },
  {
   "source": [
    "### Private with __ underscore"
   ],
   "cell_type": "markdown",
   "metadata": {}
  },
  {
   "cell_type": "code",
   "execution_count": 197,
   "metadata": {},
   "outputs": [],
   "source": [
    "class protected_class:\n",
    "    __a = 10\n",
    "\n",
    "c1 = protected_class()\n",
    "#### print (c1.__a) ## will cause an error to access __a"
   ]
  },
  {
   "cell_type": "code",
   "execution_count": null,
   "metadata": {},
   "outputs": [],
   "source": [
    "# Python code to illustrate \n",
    "# how single underscore works\n",
    "def _get_errors(self):\n",
    "\tif self._errors is None:\n",
    "\t\tself.full_clean()\n",
    "\treturn self._errors\n",
    "\n",
    "errors = property(_get_errors)\n",
    "print (errors)\n"
   ]
  },
  {
   "source": [
    "### __ Private but can acess with _Classname"
   ],
   "cell_type": "markdown",
   "metadata": {}
  },
  {
   "cell_type": "code",
   "execution_count": 173,
   "metadata": {},
   "outputs": [
    {
     "output_type": "stream",
     "name": "stdout",
     "text": [
      "Johnadd\nJohnadd Doe\n"
     ]
    }
   ],
   "source": [
    "from datetime import date\n",
    "\n",
    "class Student:\n",
    "\n",
    "    def __init__(self, fname, lname):\n",
    "        self.__first = fname\n",
    "        self.__last = lname\n",
    "    def printname(self):\n",
    "        print (self.__first, self.__last)\n",
    "\n",
    "\n",
    "s1 = Student(\"John\", \"Doe\")\n",
    "s1._Student__first += \"add\"\n",
    "print (s1._Student__first)\n",
    "s1.printname()\n"
   ]
  },
  {
   "cell_type": "code",
   "execution_count": null,
   "metadata": {},
   "outputs": [],
   "source": [
    "# creating a class\n",
    "class Sample:\n",
    "   def __init__(self, nv, pv):\n",
    "      # normal variable\n",
    "      self.nv = nv\n",
    "      # private variable(not really)\n",
    "      self.__pv = pv\n",
    "# creating an instance of the class Sample\n",
    "sample = Sample('Normal variable', 'Private variable')\n",
    "# accessing *nv*\n",
    "print(sample.nv)\n",
    "# accessing *__pv**\n",
    "print(sample.__pv) ## ERROR to access the private __pv\n",
    "\n",
    "# accessing *__pv** using _Sample__pv name\n",
    "##### Even the __pv was declared with __, we can access with the Class name and single _\n",
    "print(sample._Sample__pv)"
   ]
  },
  {
   "source": [
    "## @class method versus @static method\n",
    "\n",
    "### Class method\n",
    "Instead of accepting a self parameter, class methods take a cls parameter that points to the class—and not the object instance—when the method is called.\n",
    "\n",
    "Because the class method only has access to this <font color=\"yellow\"> cls argument</font>,<br>\n",
    "<blockquote>\n",
    "    <font color=\"yellow\"> it can’t modify object instance state. \n",
    "    That would require access to self. </font> </blockquote>\n",
    "However, class methods can still modify class state that <br>\n",
    "<blockquote>\n",
    "    applies across all instances of the class. </blockquote>\n",
    "\n",
    "### Static method\n",
    "This type of method takes <font color=\"yellow\"> neither a self nor a cls parameter </font> <br>\n",
    "<blockquote>\n",
    "    Therefore a static method can neither modify object state nor class state. \n",
    "    Static methods are restricted in what data they can access\n",
    "</blockquote>\n",
    "\n"
   ],
   "cell_type": "markdown",
   "metadata": {}
  },
  {
   "cell_type": "code",
   "execution_count": 181,
   "metadata": {},
   "outputs": [
    {
     "output_type": "stream",
     "name": "stdout",
     "text": [
      "John Doe\nJohn Doe\n"
     ]
    }
   ],
   "source": [
    "class Student(object): \n",
    "    def __init__(self, f, n):\n",
    "        self.first = f\n",
    "        self.last = n\n",
    "\n",
    "    @classmethod\n",
    "    def with_string(cls, str):\n",
    "        nl = str.split(\" \") \n",
    "        obj = cls(nl[0], nl[1])\n",
    "        return obj\n",
    "\n",
    "s1 = Student(\"John\", \"Doe\")\n",
    "print (s1.first, s1.last)\n",
    "s2 = Student.with_string(\"John Doe\")\n",
    "print (s2.first, s2.last)"
   ]
  },
  {
   "source": [
    "### Grading Example"
   ],
   "cell_type": "markdown",
   "metadata": {}
  },
  {
   "cell_type": "code",
   "execution_count": 196,
   "metadata": {},
   "outputs": [
    {
     "output_type": "stream",
     "name": "stdout",
     "text": [
      "[90, 80, 70]\n"
     ]
    }
   ],
   "source": [
    "\n",
    "class ClassGrades:\n",
    "\n",
    "        def __init__(self, grades):\n",
    "            self.grades = grades\n",
    "        \n",
    "        @classmethod\n",
    "        def fromcsv(cls, csvlist):\n",
    "            scores = list(map(int, csvlist.split(',')))\n",
    "            cls.validate(scores)\n",
    "            return cls(scores)\n",
    "        \n",
    "        @staticmethod\n",
    "        def validate(scores):\n",
    "            for s in scores:\n",
    "                if s < 0 or s > 100:\n",
    "                    print ('invalid')\n",
    "                    raise Exception()\n",
    "\n",
    "try:\n",
    "    obj = ClassGrades.fromcsv('90, 80, 70')\n",
    "    print (obj.grades)\n",
    "except:\n",
    "    print (\"Invalid Score\")"
   ]
  }
 ]
}