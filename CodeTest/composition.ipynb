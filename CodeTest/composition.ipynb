{
 "metadata": {
  "language_info": {
   "codemirror_mode": {
    "name": "ipython",
    "version": 3
   },
   "file_extension": ".py",
   "mimetype": "text/x-python",
   "name": "python",
   "nbconvert_exporter": "python",
   "pygments_lexer": "ipython3",
   "version": "3.7.10"
  },
  "orig_nbformat": 4,
  "kernelspec": {
   "name": "python3",
   "display_name": "Python 3.7.10 64-bit ('base': conda)"
  },
  "interpreter": {
   "hash": "58479cf210a736ff937a673e74b6089d455f4d99f4098812671bffa8ffeff852"
  }
 },
 "nbformat": 4,
 "nbformat_minor": 2,
 "cells": [
  {
   "source": [
    "## Inheritance in Python\n"
   ],
   "cell_type": "markdown",
   "metadata": {}
  },
  {
   "cell_type": "code",
   "execution_count": 29,
   "metadata": {},
   "outputs": [
    {
     "output_type": "stream",
     "name": "stdout",
     "text": [
      "Name:  John\nSSN:  001\n200\n"
     ]
    }
   ],
   "source": [
    "class Employee():\n",
    "    def __init__(self, name, essn):\n",
    "        self.sname = name\n",
    "        self.ssn = essn\n",
    "        self.netPay = 0\n",
    "    def printInfo(self):\n",
    "        print ('Name: ', self.sname)\n",
    "        print ('SSN: ', self.ssn)\n",
    "\n",
    "class HourlyEmployee(Employee):\n",
    "    def __init__(self, name, ssn, w, h):\n",
    "        super().__init__(name, ssn)\n",
    "        self.w = w\n",
    "        self.h = h \n",
    "\n",
    "    def printCheck(self):\n",
    "        self.netPay = self.w * self.h\n",
    "        print ( self.netPay )\n",
    "\n",
    "e0 = HourlyEmployee('John', '001', 10, 20)\n",
    "\n",
    "e0.printInfo()\n",
    "e0.printCheck()"
   ]
  },
  {
   "source": [
    "## Composition in Python"
   ],
   "cell_type": "markdown",
   "metadata": {}
  },
  {
   "cell_type": "code",
   "execution_count": 32,
   "metadata": {},
   "outputs": [
    {
     "output_type": "stream",
     "name": "stdout",
     "text": [
      "Name:  John\nSSN:  001\n200\n"
     ]
    }
   ],
   "source": [
    "class Employee_1():\n",
    "    def __init__(self, name, essn):\n",
    "        self.sname = name\n",
    "        self.ssn = essn\n",
    "        self.netPay = 0\n",
    "    def printInfo(self):\n",
    "        print ('Name: ', self.sname)\n",
    "        print ('SSN: ', self.ssn)\n",
    "\n",
    "    \n",
    "class HourlyEmployee_1():  # without Inheritance\n",
    "    def __init__(self, name, ssn, w, h):\n",
    "        self.e1 = Employee(name, ssn)\n",
    "        self.w = w\n",
    "        self.h = h \n",
    "\n",
    "    def printCheck(self):\n",
    "        self.e1.netPay = self.w * self.h\n",
    "        print ( self.e1.netPay )\n",
    "\n",
    "e1 = HourlyEmployee('John', '001', 10, 20)\n",
    "\n",
    "e1.printInfo()\n",
    "e1.printCheck()\n"
   ]
  }
 ]
}