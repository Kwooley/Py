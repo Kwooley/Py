{
 "cells": [
  {
   "cell_type": "code",
   "execution_count": 2,
   "metadata": {},
   "outputs": [
    {
     "name": "stdout",
     "output_type": "stream",
     "text": [
      "Alfalfa, Aloysius, 123-45-6789, 40.0, 90.0, 100.0, 83.0, 49.0, D- \n",
      "Alfred, University, 123-12-1234, 41.0, 97.0, 96.0, 97.0, 48.0, D+ \n",
      "Gerty, Gramma, 567-89-0123, 41.0, 80.0, 60.0, 40.0, 44.0, C \n",
      "Android, Electric, 087-65-4321, 42.0, 23.0, 36.0, 45.0, 47.0, B- \n",
      "Bumpkin, Fred, 456-78-9012, 43.0, 78.0, 88.0, 77.0, 45.0, A- \n",
      "Rubble, Betty, 234-56-7890, 44.0, 90.0, 80.0, 90.0, 46.0, C- \n",
      "Noshow, Cecil, 345-67-8901, 45.0, 11.0, -1.0, 4.0, 43.0, F \n",
      "Buff, Bif, 632-79-9939, 46.0, 20.0, 30.0, 40.0, 50.0, B+ \n",
      "Airpump, Andrew, 223-45-6789, 49.0, 1.0, 90.0, 100.0, 83.0, A \n",
      "Backus, Jim, 143-12-1234, 48.0, 1.0, 97.0, 96.0, 97.0, A+ \n",
      "Carnivore, Art, 565-89-0123, 44.0, 1.0, 80.0, 60.0, 40.0, D+ \n",
      "Dandy, Jim, 087-75-4321, 47.0, 1.0, 23.0, 36.0, 45.0, C+ \n",
      "Elephant, Ima, 456-71-9012, 45.0, 1.0, 78.0, 88.0, 77.0, B- \n",
      "Franklin, Benny, 234-56-2890, 50.0, 1.0, 90.0, 80.0, 90.0, B- \n",
      "George, Boy, 345-67-3901, 40.0, 1.0, 11.0, -1.0, 4.0, B \n",
      "Heffalump, Harvey, 632-79-9439, 30.0, 1.0, 20.0, 30.0, 40.0, C \n"
     ]
    }
   ],
   "source": [
    "import csv;\n",
    "\n",
    "fs = open('/Users/kwool/cs01/final/grades.csv', 'r')\n",
    "\n",
    "# listoffile = list(csv.reader(fs, delimiter=','))\n",
    "listoffile = list(csv.reader(fs))\n",
    "\n",
    "ofs = open('/Users/kwool/cs01/final/grades.txt','w')\n",
    "for  line in listoffile:\n",
    "    # print (line)\n",
    "    i = 0\n",
    "    for field in line:\n",
    "        field = field.strip(' \"')\n",
    "        if ( i < 8):\n",
    "            field = field+','\n",
    "        print (field, end=\" \")\n",
    "        ofs.write(field)\n",
    "        i += 1\n",
    "    print ()\n",
    "    ofs.write('\\n')\n",
    "\n"
   ]
  }
 ],
 "metadata": {
  "kernelspec": {
   "display_name": "Python 3.9.7 64-bit ('base': conda)",
   "language": "python",
   "name": "python397jvsc74a57bd0a614fddea9d37e019a720cc724ab725ff28be4e0e64e91a691a8738e1909110d"
  },
  "language_info": {
   "codemirror_mode": {
    "name": "ipython",
    "version": 3
   },
   "file_extension": ".py",
   "mimetype": "text/x-python",
   "name": "python",
   "nbconvert_exporter": "python",
   "pygments_lexer": "ipython3",
   "version": "3.9.7"
  }
 },
 "nbformat": 4,
 "nbformat_minor": 2
}
