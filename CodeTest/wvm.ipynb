{
 "metadata": {
  "language_info": {
   "codemirror_mode": {
    "name": "ipython",
    "version": 3
   },
   "file_extension": ".py",
   "mimetype": "text/x-python",
   "name": "python",
   "nbconvert_exporter": "python",
   "pygments_lexer": "ipython3",
   "version": "3.7.10"
  },
  "orig_nbformat": 2,
  "kernelspec": {
   "name": "python3710jvsc74a57bd058479cf210a736ff937a673e74b6089d455f4d99f4098812671bffa8ffeff852",
   "display_name": "Python 3.7.10 64-bit ('base': conda)"
  }
 },
 "nbformat": 4,
 "nbformat_minor": 2,
 "cells": [
  {
   "cell_type": "code",
   "execution_count": 27,
   "metadata": {},
   "outputs": [
    {
     "output_type": "stream",
     "name": "stdout",
     "text": [
      "6\n"
     ]
    }
   ],
   "source": [
    "\n",
    "def hindLegs(idx, p):\n",
    "    if ( p[idx] == '('  and p[idx-1] == '('):\n",
    "        return True\n",
    "    return False\n",
    "\n",
    "def frontLegs(idx, p):\n",
    "    if ( p[idx] == ')'  and p[idx-1] == ')'):\n",
    "        return True\n",
    "    return False\n",
    "\n",
    "def possiblePositions(p):\n",
    "    possible = numOfHindLegs = 0\n",
    "    len_p = len(p)\n",
    "    if ( len_p > 50000):\n",
    "        len_p = 50000\n",
    "    for i in range(1, len_p):\n",
    "        if ( hindLegs(i, p) ):\n",
    "            numOfHindLegs += 1\n",
    "            # print (\"hind found : \", i)\n",
    "        elif ( frontLegs(i, p) ):   \n",
    "            possible += numOfHindLegs\n",
    "            # print (\"front found : \", i, \"possible\", possible)\n",
    "    return possible\n",
    "\n",
    "def main():\n",
    "    parentheses = input(\"Please provide the string of parentheses: \")\n",
    "    # print (parentheses)\n",
    "\n",
    "    possible = possiblePositions(parentheses)\n",
    "    print (possible)\n",
    "\n",
    "if __name__ ==\"__main__\":\n",
    "    main()\n"
   ]
  },
  {
   "cell_type": "code",
   "execution_count": 18,
   "metadata": {},
   "outputs": [
    {
     "output_type": "stream",
     "name": "stdout",
     "text": [
      "4\n"
     ]
    }
   ],
   "source": [
    "\n",
    "def hindLegs(idx, p):\n",
    "    if ( p[idx] == '('  and p[idx-1] == '('):\n",
    "        return True\n",
    "    return False\n",
    "\n",
    "def frontLegs(idx, p):\n",
    "    if ( p[idx] == ')'  and p[idx-1] == ')'):\n",
    "        return True\n",
    "    return False\n",
    "\n",
    "def possiblePositions(p):\n",
    "    possible = numOfHindLegs = flag = 0\n",
    "    for i in range(1, len(p)):\n",
    "        if ( hindLegs(i, p) ):\n",
    "            if (flag):\n",
    "                numOfHindLegs = 0\n",
    "                flag = 0\n",
    "            numOfHindLegs += 1\n",
    "            # print (\"hind found : \", i)\n",
    "        elif ( frontLegs(i, p) ):   # ( ( ( ) ) ) ) ) ( ( ) ) 8\n",
    "                                    # ( ( ) ) ( ( ) )\n",
    "            flag = 1\n",
    "            possible += numOfHindLegs\n",
    "            # print (\"front found : \", i, \"possible\", possible)\n",
    "        \n",
    "    return possible\n",
    "\n",
    "def main():\n",
    "    parentheses = input(\"Please provide the string of parentheses: \")\n",
    "    # print (parentheses)\n",
    "\n",
    "    possible = possiblePositions(parentheses)\n",
    "    print (possible)\n",
    "\n",
    "if __name__ ==\"__main__\":\n",
    "    main()\n"
   ]
  },
  {
   "cell_type": "code",
   "execution_count": null,
   "metadata": {},
   "outputs": [],
   "source": []
  },
  {
   "cell_type": "code",
   "execution_count": 5,
   "metadata": {},
   "outputs": [
    {
     "output_type": "stream",
     "name": "stdout",
     "text": [
      "4\n2 dd 1\n3 dd 2\n4 dd 3\n0\n1\n2\n3\n4\n"
     ]
    }
   ],
   "source": [
    "l1 = [1,2,3,4]\n",
    "print (len(l1))\n",
    "for i in range(1, len(l1)):\n",
    "    print (l1[i], \"dd\", i)\n",
    "for i in range(5):\n",
    "    print (i)\n",
    "    "
   ]
  }
 ]
}