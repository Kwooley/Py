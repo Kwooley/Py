{
 "cells": [
  {
   "cell_type": "code",
   "execution_count": 2,
   "metadata": {},
   "outputs": [
    {
     "ename": "ModuleNotFoundError",
     "evalue": "No module named 'pandas'",
     "output_type": "error",
     "traceback": [
      "\u001b[0;31m---------------------------------------------------------------------------\u001b[0m",
      "\u001b[0;31mModuleNotFoundError\u001b[0m                       Traceback (most recent call last)",
      "\u001b[0;32m/var/folders/nw/p_cghjkj6ql4dhm9h4kl1g700000gp/T/ipykernel_89625/1318407262.py\u001b[0m in \u001b[0;36m<module>\u001b[0;34m\u001b[0m\n\u001b[0;32m----> 1\u001b[0;31m \u001b[0;32mfrom\u001b[0m \u001b[0mpandas\u001b[0m \u001b[0;32mimport\u001b[0m \u001b[0mDataFrame\u001b[0m\u001b[0;34m,\u001b[0m \u001b[0mSeries\u001b[0m\u001b[0;34m\u001b[0m\u001b[0;34m\u001b[0m\u001b[0m\n\u001b[0m\u001b[1;32m      2\u001b[0m \u001b[0;32mimport\u001b[0m \u001b[0mpandas\u001b[0m \u001b[0;32mas\u001b[0m \u001b[0mpd\u001b[0m\u001b[0;34m\u001b[0m\u001b[0;34m\u001b[0m\u001b[0m\n\u001b[1;32m      3\u001b[0m \u001b[0;32mimport\u001b[0m \u001b[0mnumpy\u001b[0m \u001b[0;32mas\u001b[0m \u001b[0mnp\u001b[0m\u001b[0;34m\u001b[0m\u001b[0;34m\u001b[0m\u001b[0m\n",
      "\u001b[0;31mModuleNotFoundError\u001b[0m: No module named 'pandas'"
     ]
    }
   ],
   "source": [
    "from pandas import DataFrame, Series\n",
    "import pandas as pd\n",
    "import numpy as np"
   ]
  },
  {
   "cell_type": "markdown",
   "metadata": {},
   "source": [
    "### PB M#1"
   ]
  },
  {
   "cell_type": "code",
   "execution_count": 1,
   "metadata": {
    "scrolled": true
   },
   "outputs": [
    {
     "name": "stdout",
     "output_type": "stream",
     "text": [
      "               1   2   3   4   5   6\n",
      "Feb 23, 2019   4   6  14  20  32  13\n",
      "Feb 20, 2019  27  49  50  51  52   2\n",
      "Feb 16, 2019  29  30  41  48  64   1\n",
      "Feb 13, 2019   2   8  14  24  69  26\n",
      "Feb 9, 2019    1   2   3   7  39  25\n",
      "Feb 6, 2019    5  13  28  38  63  21\n",
      "Feb 2, 2019   10  17  18  43  65  13\n",
      "Jan 30, 2019   2  12  16  29  54   6\n",
      "Jan 26, 2019   8  12  20  21  32  10\n",
      "Jan 23, 2019  23  25  47  48  50  24\n",
      "Jan 19, 2019   5   8  41  65  66  20\n",
      "Jan 16, 2019  14  29  31  56  61   1\n",
      "Jan 12, 2019   7  36  48  57  58  24\n",
      "Jan 9, 2019    6  19  37  49  59  22\n",
      "Jan 5, 2019    3   7  15  27  69  19\n",
      "Jan 2, 2019    8  12  42  46  56  12\n",
      "Dec 29, 2018  12  42  51  53  62  25\n",
      "Dec 26, 2018   5  25  38  52  67  24\n",
      "Dec 22, 2018  21  28  30  40  59  26\n",
      "Dec 19, 2018  15  29  31  37  43  16\n",
      "Dec 15, 2018   8  38  43  52  55  17\n",
      "Dec 12, 2018   4   9  21  29  64  26\n",
      "Dec 8, 2018   14  32  34  46  61  10\n",
      "Dec 5, 2018    9  11  36  37  38  11\n",
      "Dec 1, 2018   10  11  47  55  58  26\n",
      "Nov 28, 2018   4  19  59  68  69  21\n",
      "Nov 24, 2018  11  33  51  56  58  18\n",
      "Nov 21, 2018   7  14  23  38  55  18\n",
      "Nov 17, 2018   6   8  20  52  68   5\n",
      "Nov 14, 2018   7  42  49  62  69  23\n",
      "...           ..  ..  ..  ..  ..  ..\n",
      "May 19, 2018   3   6   9  17  56  25\n",
      "May 16, 2018  17  19  21  22  51  19\n",
      "May 12, 2018  22  42  45  55  56  14\n",
      "May 9, 2018   11  16  38  50  69  19\n",
      "May 5, 2018   14  29  36  57  61  17\n",
      "May 2, 2018    5  14  31  40  50   6\n",
      "Apr 28, 2018  20  22  28  45  50   8\n",
      "Apr 25, 2018  17  18  39  56  64  12\n",
      "Apr 21, 2018  40  50  54  62  69  19\n",
      "Apr 18, 2018   9  10  12  17  23   9\n",
      "Apr 14, 2018  17  19  26  61  62  15\n",
      "Apr 11, 2018  16  18  27  55  67  18\n",
      "Apr 7, 2018    2  17  20  38  39  20\n",
      "Apr 4, 2018    8  24  42  54  64  24\n",
      "Mar 31, 2018   8  24  52  55  61  21\n",
      "Mar 28, 2018   6   8  26  52  53  21\n",
      "Mar 24, 2018  10  33  45  53  56  24\n",
      "Mar 21, 2018   3   4  18  29  61  25\n",
      "Mar 17, 2018  22  57  59  60  66   7\n",
      "Mar 14, 2018   6  12  24  41  68   9\n",
      "Mar 10, 2018  43  44  54  61  69  22\n",
      "Mar 7, 2018    6  13  19  36  51  18\n",
      "Mar 3, 2018   13  17  25  36  40   5\n",
      "Feb 28, 2018  12  30  59  65  69  16\n",
      "Feb 24, 2018  24  25  38  62  63   6\n",
      "Feb 21, 2018   7  15  31  34  36   8\n",
      "Feb 17, 2018  13  26  39  44  62   2\n",
      "Feb 14, 2018  37  39  44  46  69  26\n",
      "Feb 10, 2018   1  13  27  41  59  20\n",
      "Feb 7, 2018   23  34  35  40  47  10\n",
      "\n",
      "[110 rows x 6 columns]\n"
     ]
    }
   ],
   "source": [
    "from pandas import DataFrame, Series\n",
    "import pandas as pd\n",
    "import numpy as np\n",
    "\n",
    "df = DataFrame(columns=[1,2,3,4,5,6])\n",
    "\n",
    "with open('list.dat', 'r') as f:\n",
    "    for r in f:\n",
    "        readlist = r.strip().split()\n",
    "        datestr = ' '.join(readlist[0:3])\n",
    "        nlist = list(map(int,readlist[3:]))\n",
    "        df.loc[datestr] = nlist\n",
    "        \n",
    "print (df)"
   ]
  },
  {
   "cell_type": "code",
   "execution_count": 2,
   "metadata": {
    "scrolled": false
   },
   "outputs": [
    {
     "name": "stdout",
     "output_type": "stream",
     "text": [
      "               1   2   3   4   5   6\n",
      "Feb 23, 2019   4   6  14  20  32  13\n",
      "Feb 20, 2019  27  49  50  51  52   2\n",
      "Feb 16, 2019  29  30  41  48  64   1\n",
      "Feb 13, 2019   2   8  14  24  69  26\n",
      "Feb 9, 2019    1   2   3   7  39  25\n",
      "Feb 6, 2019    5  13  28  38  63  21\n",
      "Feb 2, 2019   10  17  18  43  65  13\n",
      "Jan 30, 2019   2  12  16  29  54   6\n",
      "Jan 26, 2019   8  12  20  21  32  10\n",
      "Jan 23, 2019  23  25  47  48  50  24\n",
      "Jan 19, 2019   5   8  41  65  66  20\n",
      "Jan 16, 2019  14  29  31  56  61   1\n",
      "Jan 12, 2019   7  36  48  57  58  24\n",
      "Jan 9, 2019    6  19  37  49  59  22\n",
      "Jan 5, 2019    3   7  15  27  69  19\n",
      "Jan 2, 2019    8  12  42  46  56  12\n",
      "Dec 29, 2018  12  42  51  53  62  25\n",
      "Dec 26, 2018   5  25  38  52  67  24\n",
      "Dec 22, 2018  21  28  30  40  59  26\n",
      "Dec 19, 2018  15  29  31  37  43  16\n",
      "Dec 15, 2018   8  38  43  52  55  17\n",
      "Dec 12, 2018   4   9  21  29  64  26\n",
      "Dec 8, 2018   14  32  34  46  61  10\n",
      "Dec 5, 2018    9  11  36  37  38  11\n",
      "Dec 1, 2018   10  11  47  55  58  26\n",
      "Nov 28, 2018   4  19  59  68  69  21\n",
      "Nov 24, 2018  11  33  51  56  58  18\n",
      "Nov 21, 2018   7  14  23  38  55  18\n",
      "Nov 17, 2018   6   8  20  52  68   5\n",
      "Nov 14, 2018   7  42  49  62  69  23\n",
      "...           ..  ..  ..  ..  ..  ..\n",
      "May 19, 2018   3   6   9  17  56  25\n",
      "May 16, 2018  17  19  21  22  51  19\n",
      "May 12, 2018  22  42  45  55  56  14\n",
      "May 9, 2018   11  16  38  50  69  19\n",
      "May 5, 2018   14  29  36  57  61  17\n",
      "May 2, 2018    5  14  31  40  50   6\n",
      "Apr 28, 2018  20  22  28  45  50   8\n",
      "Apr 25, 2018  17  18  39  56  64  12\n",
      "Apr 21, 2018  40  50  54  62  69  19\n",
      "Apr 18, 2018   9  10  12  17  23   9\n",
      "Apr 14, 2018  17  19  26  61  62  15\n",
      "Apr 11, 2018  16  18  27  55  67  18\n",
      "Apr 7, 2018    2  17  20  38  39  20\n",
      "Apr 4, 2018    8  24  42  54  64  24\n",
      "Mar 31, 2018   8  24  52  55  61  21\n",
      "Mar 28, 2018   6   8  26  52  53  21\n",
      "Mar 24, 2018  10  33  45  53  56  24\n",
      "Mar 21, 2018   3   4  18  29  61  25\n",
      "Mar 17, 2018  22  57  59  60  66   7\n",
      "Mar 14, 2018   6  12  24  41  68   9\n",
      "Mar 10, 2018  43  44  54  61  69  22\n",
      "Mar 7, 2018    6  13  19  36  51  18\n",
      "Mar 3, 2018   13  17  25  36  40   5\n",
      "Feb 28, 2018  12  30  59  65  69  16\n",
      "Feb 24, 2018  24  25  38  62  63   6\n",
      "Feb 21, 2018   7  15  31  34  36   8\n",
      "Feb 17, 2018  13  26  39  44  62   2\n",
      "Feb 14, 2018  37  39  44  46  69  26\n",
      "Feb 10, 2018   1  13  27  41  59  20\n",
      "Feb 7, 2018   23  34  35  40  47  10\n",
      "\n",
      "[110 rows x 6 columns]\n"
     ]
    }
   ],
   "source": [
    "df = DataFrame(columns=[1,2,3,4,5,6])\n",
    "accnum = Series([0]*69, index=range(1,70))\n",
    "accred = Series([0]*26, index=range(1,27))\n",
    "\n",
    "with open('list.dat', 'r') as f:\n",
    "    for r in f:\n",
    "        readlist = r.strip().split()\n",
    "        datestr = ' '.join(readlist[0:3])\n",
    "        nlist = list(map(int,readlist[3:]))\n",
    "        for v in nlist[:5]:\n",
    "            accnum[v] += 1\n",
    "        accred[nlist[5]] += 1         \n",
    "        df.loc[datestr] = nlist\n",
    "print (df)"
   ]
  },
  {
   "cell_type": "code",
   "execution_count": 12,
   "metadata": {},
   "outputs": [
    {
     "name": "stdout",
     "output_type": "stream",
     "text": [
      "11 11 8 11 11 8 7 7 11 11 11 8 11 8 11 7 8 10 11 8 8 11 8 8 8 7 7 8 8 7 7 11 9 11 8 11 10 7 11 10 8 8 8 11 8 10 11 10 7 8 10 11 8 11 11 8 8 11 8 9 9 8 11 9 11 7 10 11 8 "
     ]
    }
   ],
   "source": [
    "for i in accnum:\n",
    "    print (accnum[i], end=' ')"
   ]
  },
  {
   "cell_type": "code",
   "execution_count": null,
   "metadata": {},
   "outputs": [],
   "source": []
  },
  {
   "cell_type": "code",
   "execution_count": 3,
   "metadata": {
    "scrolled": true
   },
   "outputs": [
    {
     "data": {
      "text/plain": [
       "Index(['Feb 23, 2019', 'Feb 20, 2019', 'Feb 16, 2019', 'Feb 13, 2019',\n",
       "       'Feb 9, 2019', 'Feb 6, 2019', 'Feb 2, 2019', 'Jan 30, 2019',\n",
       "       'Jan 26, 2019', 'Jan 23, 2019',\n",
       "       ...\n",
       "       'Mar 10, 2018', 'Mar 7, 2018', 'Mar 3, 2018', 'Feb 28, 2018',\n",
       "       'Feb 24, 2018', 'Feb 21, 2018', 'Feb 17, 2018', 'Feb 14, 2018',\n",
       "       'Feb 10, 2018', 'Feb 7, 2018'],\n",
       "      dtype='object', length=110)"
      ]
     },
     "execution_count": 3,
     "metadata": {},
     "output_type": "execute_result"
    }
   ],
   "source": [
    "df.index"
   ]
  },
  {
   "cell_type": "code",
   "execution_count": 4,
   "metadata": {
    "scrolled": true
   },
   "outputs": [],
   "source": [
    "accnum = accnum.sort_values(ascending=False)"
   ]
  },
  {
   "cell_type": "code",
   "execution_count": 8,
   "metadata": {},
   "outputs": [
    {
     "data": {
      "text/plain": [
       "Int64Index([56, 69, 64, 61, 27,  7,  8, 38, 41, 20, 45, 50, 23, 17,  6, 42, 43,\n",
       "            25, 21, 24, 14, 29, 53, 12, 57, 59, 62,  3, 28, 19, 15, 22, 13, 10,\n",
       "             9,  1, 54, 34, 55, 36, 63,  4, 44, 32, 47, 11, 39, 58,  2, 68, 65,\n",
       "             5, 52, 51, 18, 67, 48, 46, 40, 37, 16, 26, 30, 31, 49, 66, 33, 60,\n",
       "            35],\n",
       "           dtype='int64')"
      ]
     },
     "execution_count": 8,
     "metadata": {},
     "output_type": "execute_result"
    }
   ],
   "source": [
    "accnum.index"
   ]
  },
  {
   "cell_type": "code",
   "execution_count": 9,
   "metadata": {
    "scrolled": true
   },
   "outputs": [],
   "source": [
    "accred = accred.sort_values(ascending=False)"
   ]
  },
  {
   "cell_type": "markdown",
   "metadata": {},
   "source": [
    "# Numbers Frequencies from 2018 to now"
   ]
  },
  {
   "cell_type": "code",
   "execution_count": 10,
   "metadata": {},
   "outputs": [],
   "source": [
    "import matplotlib.pyplot as plt\n",
    "import matplotlib\n",
    "%matplotlib inline"
   ]
  },
  {
   "cell_type": "markdown",
   "metadata": {},
   "source": [
    "### PB M#2"
   ]
  },
  {
   "cell_type": "code",
   "execution_count": 17,
   "metadata": {},
   "outputs": [
    {
     "data": {
      "image/png": "[encoded data removed]",
      "text/plain": [
       "<Figure size 1440x720 with 1 Axes>"
      ]
     },
     "metadata": {},
     "output_type": "display_data"
    }
   ],
   "source": [
    "import matplotlib.pyplot as plt\n",
    "import matplotlib\n",
    "%matplotlib inline\n",
    "fig = plt.figure()\n",
    "\n",
    "accnum = accnum.sort_values(ascending=False)\n",
    "# Set Graph Title, font size, and axis labes\n",
    "ax = accnum.plot.bar(stacked=False, figsize=(20,10), grid=True)\n",
    "plt.rcParams['font.size'] = 12\n",
    "plt.title('Winning Number Frequencies')\n",
    "ax.set_xlabel('Winning Numbers')\n",
    "ax.set_ylabel('Counts')\n",
    "\n",
    "plt.show()"
   ]
  },
  {
   "cell_type": "code",
   "execution_count": 11,
   "metadata": {
    "scrolled": false
   },
   "outputs": [
    {
     "data": {
      "image/png": "[encoded data removed]",
      "text/plain": [
       "<Figure size 1440x720 with 1 Axes>"
      ]
     },
     "metadata": {},
     "output_type": "display_data"
    }
   ],
   "source": [
    "import matplotlib.pyplot as plt\n",
    "import matplotlib\n",
    "%matplotlib inline\n",
    "fig = plt.figure()\n",
    "my_colors = ['#00B5C5','#FEC200','#3E8DAC', 'g', 'y','r']\n",
    "ax = accnum.plot.bar(stacked=False, figsize=(20,10), grid=True, color=my_colors)\n",
    "\n",
    "# Set Graph Title, font size, and axis labes\n",
    "plt.rcParams['font.size'] = 12\n",
    "plt.title('Winning Number Frequencies')\n",
    "ax.set_xlabel('Winning Numbers')\n",
    "ax.set_ylabel('Counts')\n",
    "\n",
    "\n",
    "labels = []\n",
    "for i in accnum.index:\n",
    "        value_str = u\"{:<12,}\".format(int(accnum.loc[i])) \n",
    "        labels.append(value_str)\n",
    "\n",
    "#print labels\n",
    "patches = ax.patches\n",
    "for label, rect in zip(labels, patches):\n",
    "    width = rect.get_width()\n",
    "    if width > 0:\n",
    "        x = rect.get_x()\n",
    "        y = rect.get_y()\n",
    "        height = rect.get_height()\n",
    "        ax.text(x + width/2+0.5, y + height/2.-0.01, label, ha='center', va='center', fontsize=12)\n",
    "\n",
    "fig  = ax.get_figure()\n",
    "fig.savefig('PNG/WinningNum.png')\n",
    "plt.show()"
   ]
  },
  {
   "cell_type": "code",
   "execution_count": 12,
   "metadata": {},
   "outputs": [],
   "source": [
    "import random"
   ]
  },
  {
   "cell_type": "code",
   "execution_count": 20,
   "metadata": {
    "scrolled": true
   },
   "outputs": [
    {
     "name": "stdout",
     "output_type": "stream",
     "text": [
      "56 69 64 61 27  7  8 38 41 20 45 50 23 17  6 42 43 25 21 24 14 29 53 12 57 59 62  3 28  \n",
      "15 13 12 12 11 11 11 11 10 10 10 10 10 10 10  9  9  9  9  9  9  9  9  9  9  9  9  9  9 "
     ]
    }
   ],
   "source": [
    "\n",
    "for i in accnum[accnum>8].index:\n",
    "    print ('{:2}'.format(i), end=' ')\n",
    "print (' ')\n",
    "for i in accnum[accnum>8]:\n",
    "    print ('{:2}'.format(i), end=' ')"
   ]
  },
  {
   "cell_type": "code",
   "execution_count": 14,
   "metadata": {
    "scrolled": false
   },
   "outputs": [
    {
     "name": "stdout",
     "output_type": "stream",
     "text": [
      "19 15 22 13 10  9  1 54 34 55 36 63  4 44 32 47 11 39 58  2 68 65  5 52 51 18 67 48 46 40 37 16 26 30 31 49 66 33 60 35  \n",
      " 8  8  8  8  8  8  8  8  8  8  8  8  7  7  7  7  7  7  7  7  7  7  7  7  6  6  6  6  6  6  6  5  5  5  5  5  4  3  3  1 "
     ]
    }
   ],
   "source": [
    "\n",
    "for i in accnum[accnum<=8].index:\n",
    "    print ('{:2}'.format(i), end=' ')\n",
    "print (' ')\n",
    "for i in accnum[accnum<=8]:\n",
    "    print ('{:2}'.format(i), end=' ')"
   ]
  },
  {
   "cell_type": "markdown",
   "metadata": {},
   "source": [
    "### PB M#3"
   ]
  },
  {
   "cell_type": "code",
   "execution_count": 32,
   "metadata": {},
   "outputs": [
    {
     "name": "stdout",
     "output_type": "stream",
     "text": [
      "[67, 49, 66, 17, 51]\n"
     ]
    }
   ],
   "source": [
    "import random\n",
    "R1 = accnum[(accnum>9) | (accnum<7) ]\n",
    "R1list = list(R1.index)\n",
    "print (random.sample(R1list, 5))"
   ]
  },
  {
   "cell_type": "markdown",
   "metadata": {},
   "source": [
    "# Recommendation 1"
   ]
  },
  {
   "cell_type": "code",
   "execution_count": 21,
   "metadata": {
    "scrolled": true
   },
   "outputs": [
    {
     "name": "stdout",
     "output_type": "stream",
     "text": [
      "56 69 64 61 27  7  8 38 41 20 45 50 23 17  6 51 18 67 48 46 40 37 16 26 30 31 49 66 33 60 35  \n",
      "15 13 12 12 11 11 11 11 10 10 10 10 10 10 10  6  6  6  6  6  6  6  5  5  5  5  5  4  3  3  1 "
     ]
    }
   ],
   "source": [
    "recomlist1 = accnum[(accnum>9)]\n",
    "recomlist2 = accnum[accnum<7]\n",
    "reclist = recomlist1.append(recomlist2)\n",
    "for i in reclist.index:\n",
    "    print ('{:2}'.format(i), end=' ')\n",
    "print (' ')\n",
    "for i in reclist:\n",
    "    print ('{:2}'.format(i), end=' ')"
   ]
  },
  {
   "cell_type": "code",
   "execution_count": 11,
   "metadata": {
    "scrolled": false
   },
   "outputs": [
    {
     "name": "stdout",
     "output_type": "stream",
     "text": [
      "[38, 42, 17, 7, 50]\n",
      "[39, 49, 42, 32, 35]\n",
      "[5, 8, 67, 23, 40]\n",
      "[8, 52, 48, 60, 62]\n",
      "[65, 2, 35, 30, 39]\n"
     ]
    }
   ],
   "source": [
    "\n",
    "recval = list(reclist.index)\n",
    "for i in range(5):\n",
    "    print (random.sample(recval, 5))"
   ]
  },
  {
   "cell_type": "code",
   "execution_count": 12,
   "metadata": {},
   "outputs": [
    {
     "name": "stdout",
     "output_type": "stream",
     "text": [
      "total Number of recommed list 39\n"
     ]
    }
   ],
   "source": [
    "print ('total Number of recommed list {:2}'.format(len(recval)))"
   ]
  },
  {
   "cell_type": "markdown",
   "metadata": {},
   "source": [
    "# Recommendation 2"
   ]
  },
  {
   "cell_type": "code",
   "execution_count": 13,
   "metadata": {},
   "outputs": [
    {
     "name": "stdout",
     "output_type": "stream",
     "text": [
      "F>9 list [56, 69, 61, 64, 27, 7, 23, 38, 45, 53, 25, 41, 42, 17, 50, 59, 6, 57, 8, 62] \n",
      "F<7 list [65, 5, 37, 39, 40, 46, 67, 52, 4, 51, 48, 31, 26, 32, 18, 66, 2, 30, 49, 16, 60, 33, 35]\n",
      "7<=F<9 list [9, 3, 34, 24, 36, 22, 21, 28, 55, 43, 20, 19, 15, 10, 14, 29, 13, 12, 11, 1, 63, 58, 68, 44, 54, 47]\n",
      "[3, 19, 35, 37, 50]\n",
      "[28, 49, 55, 62, 66]\n",
      "[5, 8, 14, 16, 55]\n",
      "[9, 23, 31, 34, 40]\n",
      "[4, 7, 49, 54, 63]\n"
     ]
    }
   ],
   "source": [
    "# choose 2 random numbers from High frequencies ( F > 8 )\n",
    "reclist1 = list(accnum[accnum>=9].index)\n",
    "reclist2 = list(accnum[accnum<7].index)\n",
    "reclist3 = list(accnum[(accnum>=7) & (accnum < 9)].index)\n",
    "print ('F>9 list {0} '.format(reclist1) )\n",
    "print ('F<7 list {0}'.format( reclist2) )\n",
    "print ('7<=F<9 list {0}'.format( reclist3))\n",
    "\n",
    "for i in range(5):\n",
    "    rand1 = random.sample(reclist1, 1)\n",
    "    rand2 = random.sample(reclist2, 2)\n",
    "    rand3 = random.sample(reclist3, 2)\n",
    "    rand = rand1 + rand2 + rand3\n",
    "    rand.sort()\n",
    "    print (rand)\n"
   ]
  },
  {
   "cell_type": "markdown",
   "metadata": {},
   "source": [
    "# Red Number Frequencies "
   ]
  },
  {
   "cell_type": "markdown",
   "metadata": {},
   "source": [
    "### PB M#2"
   ]
  },
  {
   "cell_type": "code",
   "execution_count": 19,
   "metadata": {},
   "outputs": [
    {
     "data": {
      "image/png": "[encoded data removed]",
      "text/plain": [
       "<Figure size 1440x720 with 1 Axes>"
      ]
     },
     "metadata": {},
     "output_type": "display_data"
    }
   ],
   "source": [
    "fig = plt.figure()\n",
    "\n",
    "accred = accred.sort_values(ascending=False)\n",
    "ax = accred.plot.bar(stacked=False, figsize=(20,10), grid=True)\n",
    "\n",
    "plt.rcParams['font.size'] = 12\n",
    "plt.title('Red Number Frequencies')\n",
    "\n",
    "ax.set_xlabel('Red Numbers')\n",
    "ax.set_ylabel('Counts')\n",
    "\n",
    "plt.show()"
   ]
  },
  {
   "cell_type": "code",
   "execution_count": 17,
   "metadata": {
    "scrolled": false
   },
   "outputs": [
    {
     "data": {
      "image/png": "[encoded data removed]",
      "text/plain": [
       "<Figure size 1440x720 with 1 Axes>"
      ]
     },
     "metadata": {},
     "output_type": "display_data"
    }
   ],
   "source": [
    "fig = plt.figure()\n",
    "my_colors = ['#00B5C5','#FEC200','#3E8DAC', 'g', 'y','r']\n",
    "ax = accred.plot.bar(stacked=False, figsize=(20,10), grid=True, color=my_colors)\n",
    "\n",
    "plt.rcParams['font.size'] = 12\n",
    "plt.title('Red Number Frequencies')\n",
    "\n",
    "ax.set_xlabel('Red Numbers')\n",
    "ax.set_ylabel('Counts')\n",
    "\n",
    "\n",
    "labels = []\n",
    "\n",
    "for i in accred.index:\n",
    "        value_str = u\"{:<12,}\".format(int(accred.loc[i])) \n",
    "        labels.append(value_str)\n",
    "\n",
    "#print labels\n",
    "\n",
    "patches = ax.patches\n",
    "for label, rect in zip(labels, patches):\n",
    "    width = rect.get_width()\n",
    "    if width > 0:\n",
    "        x = rect.get_x()\n",
    "        y = rect.get_y()\n",
    "        height = rect.get_height()\n",
    "#        csv = \"{:<12,}\".format(int(label))\n",
    "        ax.text(x + width/2+0.5, y + height/2.-0.01, label, ha='center', va='center', fontsize=12)\n",
    "\n",
    "fig  = ax.get_figure()\n",
    "fig.savefig('PNG/RedNum.png')\n",
    "plt.show()"
   ]
  },
  {
   "cell_type": "code",
   "execution_count": 19,
   "metadata": {},
   "outputs": [
    {
     "name": "stdout",
     "output_type": "stream",
     "text": [
      "24 26 21 25 13 22  7 18 15 20  \n",
      " 9  7  6  6  6  5  5  5  5  5 "
     ]
    }
   ],
   "source": [
    "\n",
    "for i in accred[accred>=5].index:\n",
    "    print ('{:2}'.format(i), end=' ')\n",
    "print (' ')\n",
    "for i in accred[accred>=5]:\n",
    "    print ('{:2}'.format(i), end=' ')"
   ]
  },
  {
   "cell_type": "code",
   "execution_count": 16,
   "metadata": {},
   "outputs": [
    {
     "name": "stdout",
     "output_type": "stream",
     "text": [
      " 8  9 11 12 13 16 19 14 10 17  1 23  6  5  3  2  4  \n",
      " 4  4  4  4  4  4  4  3  3  3  3  2  2  2  2  2  1 "
     ]
    }
   ],
   "source": [
    "\n",
    "for i in accred[accred<5].index:\n",
    "    print ('{:2}'.format(i), end=' ')\n",
    "print (' ')\n",
    "for i in accred[accred<5]:\n",
    "    print ('{:2}'.format(i), end=' ')"
   ]
  },
  {
   "cell_type": "markdown",
   "metadata": {},
   "source": [
    "# Recommendation Red Numer"
   ]
  },
  {
   "cell_type": "markdown",
   "metadata": {},
   "source": [
    "### PB M#4"
   ]
  },
  {
   "cell_type": "code",
   "execution_count": 33,
   "metadata": {},
   "outputs": [
    {
     "name": "stdout",
     "output_type": "stream",
     "text": [
      "[22]\n"
     ]
    }
   ],
   "source": [
    "import random\n",
    "R2 = accred[(accred>4)]\n",
    "R2list = list(R2.index)\n",
    "print (random.sample(R2list, 1))"
   ]
  },
  {
   "cell_type": "code",
   "execution_count": 22,
   "metadata": {
    "scrolled": false
   },
   "outputs": [
    {
     "name": "stdout",
     "output_type": "stream",
     "text": [
      "[20]\n",
      "[22]\n",
      "[25]\n",
      "[10]\n",
      "[24]\n"
     ]
    }
   ],
   "source": [
    "for i in range(5):\n",
    "    print (random.sample(list(accred[accred>=4].index), 1))\n",
    "    "
   ]
  }
 ],
 "metadata": {
  "interpreter": {
   "hash": "af3965a93fbf6bcaac0d7bab53482d3fd9868272f8b880d426acee74c6e8c5b9"
  },
  "kernelspec": {
   "display_name": "Python 2",
   "language": "python",
   "name": "python3"
  },
  "language_info": {
   "codemirror_mode": {
    "name": "ipython",
    "version": 3
   },
   "file_extension": ".py",
   "mimetype": "text/x-python",
   "name": "python",
   "nbconvert_exporter": "python",
   "pygments_lexer": "ipython3",
   "version": "3.9.2"
  }
 },
 "nbformat": 4,
 "nbformat_minor": 2
}
