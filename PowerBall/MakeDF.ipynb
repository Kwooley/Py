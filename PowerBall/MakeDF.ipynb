{
 "cells": [
  {
   "cell_type": "markdown",
   "metadata": {},
   "source": [
    "# Make the PowerBall List"
   ]
  },
  {
   "cell_type": "code",
   "execution_count": 2,
   "metadata": {},
   "outputs": [],
   "source": [
    "mlist = ['Jan', 'Feb', 'Mar', 'Apr','May', 'Jun', 'Jul', 'Aug', 'Sep', 'Oct', 'Nov', 'Dec']\n",
    "flag = 0\n",
    "try:\n",
    "    with open('list.txt', 'r') as f1, open('list.dat','w') as f2:\n",
    "        for read_data in f1:\n",
    "            words = read_data.split()\n",
    "            if words[0] in mlist:\n",
    "                f2.write(str(words[0])+' '+str(words[1])+' '+str(words[2])+' ')\n",
    "            elif words[0].isdigit():\n",
    "                #print (int(words[0]))\n",
    "                flag = 1\n",
    "                f2.write(str(int(words[0]))+' ')\n",
    "                #f2.write(' ')\n",
    "            else:\n",
    "                if (flag):\n",
    "                    f2.write('\\n')\n",
    "                    flag = 0            \n",
    "except OSError:\n",
    "    print('Cannot Open file')"
   ]
  },
  {
   "cell_type": "code",
   "execution_count": 3,
   "metadata": {},
   "outputs": [
    {
     "name": "stdout",
     "output_type": "stream",
     "text": [
      "MakeDF.ipynb  \u001b[1m\u001b[36mPNG\u001b[m\u001b[m/          README.md     list.txt\n",
      "PBDF.ipynb    Py#1.ipynb    list.dat\n"
     ]
    }
   ],
   "source": [
    "%ls\n"
   ]
  }
 ],
 "metadata": {
  "interpreter": {
   "hash": "af3965a93fbf6bcaac0d7bab53482d3fd9868272f8b880d426acee74c6e8c5b9"
  },
  "kernelspec": {
   "display_name": "Python 2",
   "language": "python",
   "name": "python3"
  },
  "language_info": {
   "codemirror_mode": {
    "name": "ipython",
    "version": 3
   },
   "file_extension": ".py",
   "mimetype": "text/x-python",
   "name": "python",
   "nbconvert_exporter": "python",
   "pygments_lexer": "ipython3",
   "version": "3.9.2"
  }
 },
 "nbformat": 4,
 "nbformat_minor": 2
}
